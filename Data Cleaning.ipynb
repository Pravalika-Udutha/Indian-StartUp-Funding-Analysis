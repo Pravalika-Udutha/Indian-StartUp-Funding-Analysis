{
 "cells": [
  {
   "cell_type": "code",
   "execution_count": 1,
   "id": "1010235c-6c1c-4ae1-b22c-676f9a0fd514",
   "metadata": {},
   "outputs": [],
   "source": [
    "import numpy as np\n",
    "import pandas as pd"
   ]
  },
  {
   "cell_type": "raw",
   "id": "50a87bef-7d15-45fe-9d57-fd005c4eb474",
   "metadata": {},
   "source": [
    "Read the startup_funding.csv file"
   ]
  },
  {
   "cell_type": "code",
   "execution_count": 20,
   "id": "1834d901-b8fa-42f6-bd56-205b741156a7",
   "metadata": {},
   "outputs": [
    {
     "data": {
      "text/html": [
       "<div>\n",
       "<style scoped>\n",
       "    .dataframe tbody tr th:only-of-type {\n",
       "        vertical-align: middle;\n",
       "    }\n",
       "\n",
       "    .dataframe tbody tr th {\n",
       "        vertical-align: top;\n",
       "    }\n",
       "\n",
       "    .dataframe thead th {\n",
       "        text-align: right;\n",
       "    }\n",
       "</style>\n",
       "<table border=\"1\" class=\"dataframe\">\n",
       "  <thead>\n",
       "    <tr style=\"text-align: right;\">\n",
       "      <th></th>\n",
       "      <th>Sr No</th>\n",
       "      <th>Date dd/mm/yyyy</th>\n",
       "      <th>Startup Name</th>\n",
       "      <th>Industry Vertical</th>\n",
       "      <th>SubVertical</th>\n",
       "      <th>City  Location</th>\n",
       "      <th>Investors Name</th>\n",
       "      <th>InvestmentnType</th>\n",
       "      <th>Amount in USD</th>\n",
       "      <th>Remarks</th>\n",
       "    </tr>\n",
       "  </thead>\n",
       "  <tbody>\n",
       "    <tr>\n",
       "      <th>0</th>\n",
       "      <td>1</td>\n",
       "      <td>09/01/2020</td>\n",
       "      <td>BYJU’S</td>\n",
       "      <td>E-Tech</td>\n",
       "      <td>E-learning</td>\n",
       "      <td>Bengaluru</td>\n",
       "      <td>Tiger Global Management</td>\n",
       "      <td>Private Equity Round</td>\n",
       "      <td>20,00,00,000</td>\n",
       "      <td>NaN</td>\n",
       "    </tr>\n",
       "    <tr>\n",
       "      <th>1</th>\n",
       "      <td>2</td>\n",
       "      <td>13/01/2020</td>\n",
       "      <td>Shuttl</td>\n",
       "      <td>Transportation</td>\n",
       "      <td>App based shuttle service</td>\n",
       "      <td>Gurgaon</td>\n",
       "      <td>Susquehanna Growth Equity</td>\n",
       "      <td>Series C</td>\n",
       "      <td>80,48,394</td>\n",
       "      <td>NaN</td>\n",
       "    </tr>\n",
       "    <tr>\n",
       "      <th>2</th>\n",
       "      <td>3</td>\n",
       "      <td>09/01/2020</td>\n",
       "      <td>Mamaearth</td>\n",
       "      <td>E-commerce</td>\n",
       "      <td>Retailer of baby and toddler products</td>\n",
       "      <td>Bengaluru</td>\n",
       "      <td>Sequoia Capital India</td>\n",
       "      <td>Series B</td>\n",
       "      <td>1,83,58,860</td>\n",
       "      <td>NaN</td>\n",
       "    </tr>\n",
       "    <tr>\n",
       "      <th>3</th>\n",
       "      <td>4</td>\n",
       "      <td>02/01/2020</td>\n",
       "      <td>https://www.wealthbucket.in/</td>\n",
       "      <td>FinTech</td>\n",
       "      <td>Online Investment</td>\n",
       "      <td>New Delhi</td>\n",
       "      <td>Vinod Khatumal</td>\n",
       "      <td>Pre-series A</td>\n",
       "      <td>30,00,000</td>\n",
       "      <td>NaN</td>\n",
       "    </tr>\n",
       "    <tr>\n",
       "      <th>4</th>\n",
       "      <td>5</td>\n",
       "      <td>02/01/2020</td>\n",
       "      <td>Fashor</td>\n",
       "      <td>Fashion and Apparel</td>\n",
       "      <td>Embroiled Clothes For Women</td>\n",
       "      <td>Mumbai</td>\n",
       "      <td>Sprout Venture Partners</td>\n",
       "      <td>Seed Round</td>\n",
       "      <td>18,00,000</td>\n",
       "      <td>NaN</td>\n",
       "    </tr>\n",
       "  </tbody>\n",
       "</table>\n",
       "</div>"
      ],
      "text/plain": [
       "   Sr No Date dd/mm/yyyy                  Startup Name    Industry Vertical  \\\n",
       "0      1      09/01/2020                        BYJU’S               E-Tech   \n",
       "1      2      13/01/2020                        Shuttl       Transportation   \n",
       "2      3      09/01/2020                     Mamaearth           E-commerce   \n",
       "3      4      02/01/2020  https://www.wealthbucket.in/              FinTech   \n",
       "4      5      02/01/2020                        Fashor  Fashion and Apparel   \n",
       "\n",
       "                             SubVertical City  Location  \\\n",
       "0                             E-learning      Bengaluru   \n",
       "1              App based shuttle service        Gurgaon   \n",
       "2  Retailer of baby and toddler products      Bengaluru   \n",
       "3                      Online Investment      New Delhi   \n",
       "4            Embroiled Clothes For Women         Mumbai   \n",
       "\n",
       "              Investors Name       InvestmentnType Amount in USD Remarks  \n",
       "0    Tiger Global Management  Private Equity Round  20,00,00,000     NaN  \n",
       "1  Susquehanna Growth Equity              Series C     80,48,394     NaN  \n",
       "2      Sequoia Capital India              Series B   1,83,58,860     NaN  \n",
       "3             Vinod Khatumal          Pre-series A     30,00,000     NaN  \n",
       "4    Sprout Venture Partners            Seed Round     18,00,000     NaN  "
      ]
     },
     "execution_count": 20,
     "metadata": {},
     "output_type": "execute_result"
    }
   ],
   "source": [
    "df = pd.read_csv('startup_funding.csv')\n",
    "df.head()"
   ]
  },
  {
   "cell_type": "raw",
   "id": "68adda99-7976-49cf-9312-17d99bdaa1eb",
   "metadata": {},
   "source": [
    "Inspect the columns and rows"
   ]
  },
  {
   "cell_type": "code",
   "execution_count": 21,
   "id": "81d89de0-fb82-4978-9d14-855f8302e5fb",
   "metadata": {},
   "outputs": [
    {
     "name": "stdout",
     "output_type": "stream",
     "text": [
      "<class 'pandas.core.frame.DataFrame'>\n",
      "RangeIndex: 3044 entries, 0 to 3043\n",
      "Data columns (total 10 columns):\n",
      " #   Column             Non-Null Count  Dtype \n",
      "---  ------             --------------  ----- \n",
      " 0   Sr No              3044 non-null   int64 \n",
      " 1   Date dd/mm/yyyy    3044 non-null   object\n",
      " 2   Startup Name       3044 non-null   object\n",
      " 3   Industry Vertical  2873 non-null   object\n",
      " 4   SubVertical        2108 non-null   object\n",
      " 5   City  Location     2864 non-null   object\n",
      " 6   Investors Name     3020 non-null   object\n",
      " 7   InvestmentnType    3040 non-null   object\n",
      " 8   Amount in USD      2084 non-null   object\n",
      " 9   Remarks            419 non-null    object\n",
      "dtypes: int64(1), object(9)\n",
      "memory usage: 237.9+ KB\n"
     ]
    }
   ],
   "source": [
    "df.info()"
   ]
  },
  {
   "cell_type": "raw",
   "id": "2ea67960-f555-4bdb-9d51-71163d99d281",
   "metadata": {},
   "source": [
    "Here the column 'Remarks' doesn't have any value other than NaN values (check the excel file).\n",
    "So,there is no need for that column"
   ]
  },
  {
   "cell_type": "code",
   "execution_count": 22,
   "id": "d2bbff93-f825-440a-89b9-bcce9119ea7e",
   "metadata": {},
   "outputs": [],
   "source": [
    "df.drop(columns=['Remarks'],inplace=True)"
   ]
  },
  {
   "cell_type": "code",
   "execution_count": 23,
   "id": "32dbc94c-8d0d-43df-a4ce-e7d19bcf20fa",
   "metadata": {},
   "outputs": [
    {
     "data": {
      "text/html": [
       "<div>\n",
       "<style scoped>\n",
       "    .dataframe tbody tr th:only-of-type {\n",
       "        vertical-align: middle;\n",
       "    }\n",
       "\n",
       "    .dataframe tbody tr th {\n",
       "        vertical-align: top;\n",
       "    }\n",
       "\n",
       "    .dataframe thead th {\n",
       "        text-align: right;\n",
       "    }\n",
       "</style>\n",
       "<table border=\"1\" class=\"dataframe\">\n",
       "  <thead>\n",
       "    <tr style=\"text-align: right;\">\n",
       "      <th></th>\n",
       "      <th>Sr No</th>\n",
       "      <th>Date dd/mm/yyyy</th>\n",
       "      <th>Startup Name</th>\n",
       "      <th>Industry Vertical</th>\n",
       "      <th>SubVertical</th>\n",
       "      <th>City  Location</th>\n",
       "      <th>Investors Name</th>\n",
       "      <th>InvestmentnType</th>\n",
       "      <th>Amount in USD</th>\n",
       "    </tr>\n",
       "  </thead>\n",
       "  <tbody>\n",
       "    <tr>\n",
       "      <th>0</th>\n",
       "      <td>1</td>\n",
       "      <td>09/01/2020</td>\n",
       "      <td>BYJU’S</td>\n",
       "      <td>E-Tech</td>\n",
       "      <td>E-learning</td>\n",
       "      <td>Bengaluru</td>\n",
       "      <td>Tiger Global Management</td>\n",
       "      <td>Private Equity Round</td>\n",
       "      <td>20,00,00,000</td>\n",
       "    </tr>\n",
       "    <tr>\n",
       "      <th>1</th>\n",
       "      <td>2</td>\n",
       "      <td>13/01/2020</td>\n",
       "      <td>Shuttl</td>\n",
       "      <td>Transportation</td>\n",
       "      <td>App based shuttle service</td>\n",
       "      <td>Gurgaon</td>\n",
       "      <td>Susquehanna Growth Equity</td>\n",
       "      <td>Series C</td>\n",
       "      <td>80,48,394</td>\n",
       "    </tr>\n",
       "    <tr>\n",
       "      <th>2</th>\n",
       "      <td>3</td>\n",
       "      <td>09/01/2020</td>\n",
       "      <td>Mamaearth</td>\n",
       "      <td>E-commerce</td>\n",
       "      <td>Retailer of baby and toddler products</td>\n",
       "      <td>Bengaluru</td>\n",
       "      <td>Sequoia Capital India</td>\n",
       "      <td>Series B</td>\n",
       "      <td>1,83,58,860</td>\n",
       "    </tr>\n",
       "    <tr>\n",
       "      <th>3</th>\n",
       "      <td>4</td>\n",
       "      <td>02/01/2020</td>\n",
       "      <td>https://www.wealthbucket.in/</td>\n",
       "      <td>FinTech</td>\n",
       "      <td>Online Investment</td>\n",
       "      <td>New Delhi</td>\n",
       "      <td>Vinod Khatumal</td>\n",
       "      <td>Pre-series A</td>\n",
       "      <td>30,00,000</td>\n",
       "    </tr>\n",
       "    <tr>\n",
       "      <th>4</th>\n",
       "      <td>5</td>\n",
       "      <td>02/01/2020</td>\n",
       "      <td>Fashor</td>\n",
       "      <td>Fashion and Apparel</td>\n",
       "      <td>Embroiled Clothes For Women</td>\n",
       "      <td>Mumbai</td>\n",
       "      <td>Sprout Venture Partners</td>\n",
       "      <td>Seed Round</td>\n",
       "      <td>18,00,000</td>\n",
       "    </tr>\n",
       "  </tbody>\n",
       "</table>\n",
       "</div>"
      ],
      "text/plain": [
       "   Sr No Date dd/mm/yyyy                  Startup Name    Industry Vertical  \\\n",
       "0      1      09/01/2020                        BYJU’S               E-Tech   \n",
       "1      2      13/01/2020                        Shuttl       Transportation   \n",
       "2      3      09/01/2020                     Mamaearth           E-commerce   \n",
       "3      4      02/01/2020  https://www.wealthbucket.in/              FinTech   \n",
       "4      5      02/01/2020                        Fashor  Fashion and Apparel   \n",
       "\n",
       "                             SubVertical City  Location  \\\n",
       "0                             E-learning      Bengaluru   \n",
       "1              App based shuttle service        Gurgaon   \n",
       "2  Retailer of baby and toddler products      Bengaluru   \n",
       "3                      Online Investment      New Delhi   \n",
       "4            Embroiled Clothes For Women         Mumbai   \n",
       "\n",
       "              Investors Name       InvestmentnType Amount in USD  \n",
       "0    Tiger Global Management  Private Equity Round  20,00,00,000  \n",
       "1  Susquehanna Growth Equity              Series C     80,48,394  \n",
       "2      Sequoia Capital India              Series B   1,83,58,860  \n",
       "3             Vinod Khatumal          Pre-series A     30,00,000  \n",
       "4    Sprout Venture Partners            Seed Round     18,00,000  "
      ]
     },
     "execution_count": 23,
     "metadata": {},
     "output_type": "execute_result"
    }
   ],
   "source": [
    "df.head()"
   ]
  },
  {
   "cell_type": "raw",
   "id": "b7088446-bcd1-4cf3-8851-d636ff1de511",
   "metadata": {},
   "source": [
    "Let's now customize the index with Sr No. rather than in-built index"
   ]
  },
  {
   "cell_type": "code",
   "execution_count": 24,
   "id": "d61c2b06-dd18-4990-a54b-932712bc7c71",
   "metadata": {},
   "outputs": [],
   "source": [
    "df.set_index('Sr No',inplace=True)\n"
   ]
  },
  {
   "cell_type": "raw",
   "id": "176938e2-cbb7-4fb8-a0c4-8e4cdcc0f5e6",
   "metadata": {},
   "source": [
    "Column names for these dataframes are not proper.Let's change them"
   ]
  },
  {
   "cell_type": "code",
   "execution_count": 25,
   "id": "c2182202-798f-43ce-9ddb-6b5f4842cf4e",
   "metadata": {},
   "outputs": [],
   "source": [
    "df.rename(columns={\n",
    "    'Date dd/mm/yyyy':'date',\n",
    "    'Startup Name':'startup',\n",
    "    'Industry Vertical':'vertical',\n",
    "    'SubVertical':'subvertical',\n",
    "    'City  Location':'city',\n",
    "    'Investors Name':'investors',\n",
    "    'InvestmentnType':'round',\n",
    "    'Amount in USD':'amount'\n",
    "},inplace=True)"
   ]
  },
  {
   "cell_type": "code",
   "execution_count": 26,
   "id": "7fbfaf9e-0b2a-45f5-8524-f8122b1badf8",
   "metadata": {},
   "outputs": [
    {
     "data": {
      "text/html": [
       "<div>\n",
       "<style scoped>\n",
       "    .dataframe tbody tr th:only-of-type {\n",
       "        vertical-align: middle;\n",
       "    }\n",
       "\n",
       "    .dataframe tbody tr th {\n",
       "        vertical-align: top;\n",
       "    }\n",
       "\n",
       "    .dataframe thead th {\n",
       "        text-align: right;\n",
       "    }\n",
       "</style>\n",
       "<table border=\"1\" class=\"dataframe\">\n",
       "  <thead>\n",
       "    <tr style=\"text-align: right;\">\n",
       "      <th></th>\n",
       "      <th>date</th>\n",
       "      <th>startup</th>\n",
       "      <th>vertical</th>\n",
       "      <th>subvertical</th>\n",
       "      <th>city</th>\n",
       "      <th>investors</th>\n",
       "      <th>round</th>\n",
       "      <th>amount</th>\n",
       "    </tr>\n",
       "    <tr>\n",
       "      <th>Sr No</th>\n",
       "      <th></th>\n",
       "      <th></th>\n",
       "      <th></th>\n",
       "      <th></th>\n",
       "      <th></th>\n",
       "      <th></th>\n",
       "      <th></th>\n",
       "      <th></th>\n",
       "    </tr>\n",
       "  </thead>\n",
       "  <tbody>\n",
       "    <tr>\n",
       "      <th>1</th>\n",
       "      <td>09/01/2020</td>\n",
       "      <td>BYJU’S</td>\n",
       "      <td>E-Tech</td>\n",
       "      <td>E-learning</td>\n",
       "      <td>Bengaluru</td>\n",
       "      <td>Tiger Global Management</td>\n",
       "      <td>Private Equity Round</td>\n",
       "      <td>20,00,00,000</td>\n",
       "    </tr>\n",
       "    <tr>\n",
       "      <th>2</th>\n",
       "      <td>13/01/2020</td>\n",
       "      <td>Shuttl</td>\n",
       "      <td>Transportation</td>\n",
       "      <td>App based shuttle service</td>\n",
       "      <td>Gurgaon</td>\n",
       "      <td>Susquehanna Growth Equity</td>\n",
       "      <td>Series C</td>\n",
       "      <td>80,48,394</td>\n",
       "    </tr>\n",
       "  </tbody>\n",
       "</table>\n",
       "</div>"
      ],
      "text/plain": [
       "             date startup        vertical                subvertical  \\\n",
       "Sr No                                                                  \n",
       "1      09/01/2020  BYJU’S          E-Tech                 E-learning   \n",
       "2      13/01/2020  Shuttl  Transportation  App based shuttle service   \n",
       "\n",
       "            city                  investors                 round  \\\n",
       "Sr No                                                               \n",
       "1      Bengaluru    Tiger Global Management  Private Equity Round   \n",
       "2        Gurgaon  Susquehanna Growth Equity              Series C   \n",
       "\n",
       "             amount  \n",
       "Sr No                \n",
       "1      20,00,00,000  \n",
       "2         80,48,394  "
      ]
     },
     "execution_count": 26,
     "metadata": {},
     "output_type": "execute_result"
    }
   ],
   "source": [
    "df.head(2)"
   ]
  },
  {
   "cell_type": "raw",
   "id": "1dcd43e4-b36e-499d-9914-517fbed0ae24",
   "metadata": {},
   "source": [
    "Amount column has Null values and some other values like undisclosed,unkown.Clean it"
   ]
  },
  {
   "cell_type": "code",
   "execution_count": 27,
   "id": "b00495ab-b3fc-4658-889b-97d0840f3112",
   "metadata": {},
   "outputs": [],
   "source": [
    "df['amount']=df['amount'].fillna('0')\n",
    "df['amount']=df['amount'].str.replace(\",\",\"\")\n",
    "df['amount']=df['amount'].str.replace(\"undisclosed\",\"0\")\n",
    "df['amount']=df['amount'].str.replace(\"Undisclosed\",\"0\")\n",
    "df['amount']=df['amount'].str.replace(\"unknown\",\"0\")"
   ]
  },
  {
   "cell_type": "raw",
   "id": "99d21f7e-4f2a-4e71-b7bd-4786c1270fff",
   "metadata": {},
   "source": [
    "Verify the amount column that it has only digits"
   ]
  },
  {
   "cell_type": "code",
   "execution_count": 28,
   "id": "1ca747a5-5cfa-405a-ac94-bff2cb6b7b6d",
   "metadata": {},
   "outputs": [
    {
     "data": {
      "text/plain": [
       "Sr No\n",
       "1       True\n",
       "2       True\n",
       "3       True\n",
       "4       True\n",
       "5       True\n",
       "        ... \n",
       "3040    True\n",
       "3041    True\n",
       "3042    True\n",
       "3043    True\n",
       "3044    True\n",
       "Name: amount, Length: 3044, dtype: bool"
      ]
     },
     "execution_count": 28,
     "metadata": {},
     "output_type": "execute_result"
    }
   ],
   "source": [
    "df['amount'].str.isdigit()"
   ]
  },
  {
   "cell_type": "code",
   "execution_count": 29,
   "id": "17f2eafb-5661-4778-89e4-3fc4f7c5fc78",
   "metadata": {},
   "outputs": [],
   "source": [
    "df = df[df['amount'].str.isdigit()]"
   ]
  },
  {
   "cell_type": "raw",
   "id": "f5fd7fa0-4cf1-4a47-b137-c461d00b1d0f",
   "metadata": {},
   "source": [
    "Change the amount type from string to float to hold currency"
   ]
  },
  {
   "cell_type": "code",
   "execution_count": 30,
   "id": "bc65e4d9-6cf1-4a5b-b1fa-c06c58c8d18a",
   "metadata": {},
   "outputs": [],
   "source": [
    "df['amount'] = df['amount'].astype('float')"
   ]
  },
  {
   "cell_type": "raw",
   "id": "d2765923-d240-4605-a8cc-33d261f649a3",
   "metadata": {},
   "source": [
    "Inspect the amount column"
   ]
  },
  {
   "cell_type": "code",
   "execution_count": 31,
   "id": "0ded2bf1-1222-4a54-9d26-067ef78da48d",
   "metadata": {},
   "outputs": [
    {
     "name": "stdout",
     "output_type": "stream",
     "text": [
      "<class 'pandas.core.frame.DataFrame'>\n",
      "Index: 3029 entries, 1 to 3044\n",
      "Data columns (total 8 columns):\n",
      " #   Column       Non-Null Count  Dtype  \n",
      "---  ------       --------------  -----  \n",
      " 0   date         3029 non-null   object \n",
      " 1   startup      3029 non-null   object \n",
      " 2   vertical     2858 non-null   object \n",
      " 3   subvertical  2104 non-null   object \n",
      " 4   city         2849 non-null   object \n",
      " 5   investors    3005 non-null   object \n",
      " 6   round        3027 non-null   object \n",
      " 7   amount       3029 non-null   float64\n",
      "dtypes: float64(1), object(7)\n",
      "memory usage: 213.0+ KB\n"
     ]
    }
   ],
   "source": [
    "df.info()"
   ]
  },
  {
   "cell_type": "raw",
   "id": "39278912-0699-447b-aa02-da4e79ff70a6",
   "metadata": {},
   "source": [
    "Now amount column is completed fixed but the amount is represented i dollars,convert that into rupees"
   ]
  },
  {
   "cell_type": "code",
   "execution_count": 32,
   "id": "23f6ce6b-091d-4808-bd40-0d7e331a8890",
   "metadata": {},
   "outputs": [],
   "source": [
    "def into_rupees(dollar):\n",
    "    inr = dollar * 82.5\n",
    "    return inr/10000000\n",
    "df['amount'] = df['amount'].apply(into_rupees)"
   ]
  },
  {
   "cell_type": "code",
   "execution_count": 33,
   "id": "57223813-52c6-4eb9-a0f0-4a164b332fde",
   "metadata": {},
   "outputs": [
    {
     "data": {
      "text/html": [
       "<div>\n",
       "<style scoped>\n",
       "    .dataframe tbody tr th:only-of-type {\n",
       "        vertical-align: middle;\n",
       "    }\n",
       "\n",
       "    .dataframe tbody tr th {\n",
       "        vertical-align: top;\n",
       "    }\n",
       "\n",
       "    .dataframe thead th {\n",
       "        text-align: right;\n",
       "    }\n",
       "</style>\n",
       "<table border=\"1\" class=\"dataframe\">\n",
       "  <thead>\n",
       "    <tr style=\"text-align: right;\">\n",
       "      <th></th>\n",
       "      <th>date</th>\n",
       "      <th>startup</th>\n",
       "      <th>vertical</th>\n",
       "      <th>subvertical</th>\n",
       "      <th>city</th>\n",
       "      <th>investors</th>\n",
       "      <th>round</th>\n",
       "      <th>amount</th>\n",
       "    </tr>\n",
       "    <tr>\n",
       "      <th>Sr No</th>\n",
       "      <th></th>\n",
       "      <th></th>\n",
       "      <th></th>\n",
       "      <th></th>\n",
       "      <th></th>\n",
       "      <th></th>\n",
       "      <th></th>\n",
       "      <th></th>\n",
       "    </tr>\n",
       "  </thead>\n",
       "  <tbody>\n",
       "    <tr>\n",
       "      <th>1</th>\n",
       "      <td>09/01/2020</td>\n",
       "      <td>BYJU’S</td>\n",
       "      <td>E-Tech</td>\n",
       "      <td>E-learning</td>\n",
       "      <td>Bengaluru</td>\n",
       "      <td>Tiger Global Management</td>\n",
       "      <td>Private Equity Round</td>\n",
       "      <td>1650.00000</td>\n",
       "    </tr>\n",
       "    <tr>\n",
       "      <th>2</th>\n",
       "      <td>13/01/2020</td>\n",
       "      <td>Shuttl</td>\n",
       "      <td>Transportation</td>\n",
       "      <td>App based shuttle service</td>\n",
       "      <td>Gurgaon</td>\n",
       "      <td>Susquehanna Growth Equity</td>\n",
       "      <td>Series C</td>\n",
       "      <td>66.39925</td>\n",
       "    </tr>\n",
       "  </tbody>\n",
       "</table>\n",
       "</div>"
      ],
      "text/plain": [
       "             date startup        vertical                subvertical  \\\n",
       "Sr No                                                                  \n",
       "1      09/01/2020  BYJU’S          E-Tech                 E-learning   \n",
       "2      13/01/2020  Shuttl  Transportation  App based shuttle service   \n",
       "\n",
       "            city                  investors                 round      amount  \n",
       "Sr No                                                                          \n",
       "1      Bengaluru    Tiger Global Management  Private Equity Round  1650.00000  \n",
       "2        Gurgaon  Susquehanna Growth Equity              Series C    66.39925  "
      ]
     },
     "execution_count": 33,
     "metadata": {},
     "output_type": "execute_result"
    }
   ],
   "source": [
    "df.head(2)"
   ]
  },
  {
   "cell_type": "raw",
   "id": "264c2212-c928-4b9e-b129-30b91f28e6f2",
   "metadata": {},
   "source": [
    "amount column is cleaned.Now focus on date column"
   ]
  },
  {
   "cell_type": "code",
   "execution_count": 34,
   "id": "09738e76-55f9-4af5-baeb-2a14c37566b1",
   "metadata": {},
   "outputs": [],
   "source": [
    "# Clean and convert 'date' column\n",
    "df['date'] = df['date'].str.strip()  # Remove leading/trailing spaces\n",
    "df['date'] = pd.to_datetime(df['date'], dayfirst=True, errors='coerce')  # Try standard parsing first\n",
    "\n",
    "# Handle remaining NaT with dateutil\n",
    "mask = df['date'].isna()  # Rows still NaT\n",
    "df.loc[mask, 'date'] = df.loc[mask, 'date'].apply(lambda x: parse(x, dayfirst=True) if pd.notna(x) else pd.NaT)"
   ]
  },
  {
   "cell_type": "code",
   "execution_count": 35,
   "id": "a2add95e-245d-4dbf-89c9-75827f061d60",
   "metadata": {},
   "outputs": [
    {
     "data": {
      "text/html": [
       "<div>\n",
       "<style scoped>\n",
       "    .dataframe tbody tr th:only-of-type {\n",
       "        vertical-align: middle;\n",
       "    }\n",
       "\n",
       "    .dataframe tbody tr th {\n",
       "        vertical-align: top;\n",
       "    }\n",
       "\n",
       "    .dataframe thead th {\n",
       "        text-align: right;\n",
       "    }\n",
       "</style>\n",
       "<table border=\"1\" class=\"dataframe\">\n",
       "  <thead>\n",
       "    <tr style=\"text-align: right;\">\n",
       "      <th></th>\n",
       "      <th>date</th>\n",
       "      <th>startup</th>\n",
       "      <th>vertical</th>\n",
       "      <th>subvertical</th>\n",
       "      <th>city</th>\n",
       "      <th>investors</th>\n",
       "      <th>round</th>\n",
       "      <th>amount</th>\n",
       "    </tr>\n",
       "    <tr>\n",
       "      <th>Sr No</th>\n",
       "      <th></th>\n",
       "      <th></th>\n",
       "      <th></th>\n",
       "      <th></th>\n",
       "      <th></th>\n",
       "      <th></th>\n",
       "      <th></th>\n",
       "      <th></th>\n",
       "    </tr>\n",
       "  </thead>\n",
       "  <tbody>\n",
       "    <tr>\n",
       "      <th>1</th>\n",
       "      <td>2020-01-09</td>\n",
       "      <td>BYJU’S</td>\n",
       "      <td>E-Tech</td>\n",
       "      <td>E-learning</td>\n",
       "      <td>Bengaluru</td>\n",
       "      <td>Tiger Global Management</td>\n",
       "      <td>Private Equity Round</td>\n",
       "      <td>1650.000000</td>\n",
       "    </tr>\n",
       "    <tr>\n",
       "      <th>2</th>\n",
       "      <td>2020-01-13</td>\n",
       "      <td>Shuttl</td>\n",
       "      <td>Transportation</td>\n",
       "      <td>App based shuttle service</td>\n",
       "      <td>Gurgaon</td>\n",
       "      <td>Susquehanna Growth Equity</td>\n",
       "      <td>Series C</td>\n",
       "      <td>66.399250</td>\n",
       "    </tr>\n",
       "    <tr>\n",
       "      <th>3</th>\n",
       "      <td>2020-01-09</td>\n",
       "      <td>Mamaearth</td>\n",
       "      <td>E-commerce</td>\n",
       "      <td>Retailer of baby and toddler products</td>\n",
       "      <td>Bengaluru</td>\n",
       "      <td>Sequoia Capital India</td>\n",
       "      <td>Series B</td>\n",
       "      <td>151.460595</td>\n",
       "    </tr>\n",
       "    <tr>\n",
       "      <th>4</th>\n",
       "      <td>2020-01-02</td>\n",
       "      <td>https://www.wealthbucket.in/</td>\n",
       "      <td>FinTech</td>\n",
       "      <td>Online Investment</td>\n",
       "      <td>New Delhi</td>\n",
       "      <td>Vinod Khatumal</td>\n",
       "      <td>Pre-series A</td>\n",
       "      <td>24.750000</td>\n",
       "    </tr>\n",
       "    <tr>\n",
       "      <th>5</th>\n",
       "      <td>2020-01-02</td>\n",
       "      <td>Fashor</td>\n",
       "      <td>Fashion and Apparel</td>\n",
       "      <td>Embroiled Clothes For Women</td>\n",
       "      <td>Mumbai</td>\n",
       "      <td>Sprout Venture Partners</td>\n",
       "      <td>Seed Round</td>\n",
       "      <td>14.850000</td>\n",
       "    </tr>\n",
       "  </tbody>\n",
       "</table>\n",
       "</div>"
      ],
      "text/plain": [
       "            date                       startup             vertical  \\\n",
       "Sr No                                                                 \n",
       "1     2020-01-09                        BYJU’S               E-Tech   \n",
       "2     2020-01-13                        Shuttl       Transportation   \n",
       "3     2020-01-09                     Mamaearth           E-commerce   \n",
       "4     2020-01-02  https://www.wealthbucket.in/              FinTech   \n",
       "5     2020-01-02                        Fashor  Fashion and Apparel   \n",
       "\n",
       "                                 subvertical       city  \\\n",
       "Sr No                                                     \n",
       "1                                 E-learning  Bengaluru   \n",
       "2                  App based shuttle service    Gurgaon   \n",
       "3      Retailer of baby and toddler products  Bengaluru   \n",
       "4                          Online Investment  New Delhi   \n",
       "5                Embroiled Clothes For Women     Mumbai   \n",
       "\n",
       "                       investors                 round       amount  \n",
       "Sr No                                                                \n",
       "1        Tiger Global Management  Private Equity Round  1650.000000  \n",
       "2      Susquehanna Growth Equity              Series C    66.399250  \n",
       "3          Sequoia Capital India              Series B   151.460595  \n",
       "4                 Vinod Khatumal          Pre-series A    24.750000  \n",
       "5        Sprout Venture Partners            Seed Round    14.850000  "
      ]
     },
     "execution_count": 35,
     "metadata": {},
     "output_type": "execute_result"
    }
   ],
   "source": [
    "df.head()"
   ]
  },
  {
   "cell_type": "code",
   "execution_count": 36,
   "id": "8ad5debc-9820-4d0f-80ac-927379f3e44e",
   "metadata": {},
   "outputs": [
    {
     "name": "stdout",
     "output_type": "stream",
     "text": [
      "<class 'pandas.core.frame.DataFrame'>\n",
      "Index: 3029 entries, 1 to 3044\n",
      "Data columns (total 8 columns):\n",
      " #   Column       Non-Null Count  Dtype         \n",
      "---  ------       --------------  -----         \n",
      " 0   date         3022 non-null   datetime64[ns]\n",
      " 1   startup      3029 non-null   object        \n",
      " 2   vertical     2858 non-null   object        \n",
      " 3   subvertical  2104 non-null   object        \n",
      " 4   city         2849 non-null   object        \n",
      " 5   investors    3005 non-null   object        \n",
      " 6   round        3027 non-null   object        \n",
      " 7   amount       3029 non-null   float64       \n",
      "dtypes: datetime64[ns](1), float64(1), object(6)\n",
      "memory usage: 213.0+ KB\n"
     ]
    }
   ],
   "source": [
    "df.info()"
   ]
  },
  {
   "cell_type": "raw",
   "id": "701380eb-169a-4658-914f-e7126fc863d3",
   "metadata": {},
   "source": [
    "Remove the nan values from all the columns except subvertical"
   ]
  },
  {
   "cell_type": "code",
   "execution_count": 37,
   "id": "79eaa7cb-2bce-468c-94bb-6333d1e8ea9b",
   "metadata": {},
   "outputs": [],
   "source": [
    "df = df.dropna(subset=['date','startup','vertical','city','investors','round','amount'])"
   ]
  },
  {
   "cell_type": "code",
   "execution_count": 38,
   "id": "285678eb-2161-499e-a2c9-71c44b40914c",
   "metadata": {},
   "outputs": [
    {
     "name": "stdout",
     "output_type": "stream",
     "text": [
      "<class 'pandas.core.frame.DataFrame'>\n",
      "Index: 2818 entries, 1 to 2873\n",
      "Data columns (total 8 columns):\n",
      " #   Column       Non-Null Count  Dtype         \n",
      "---  ------       --------------  -----         \n",
      " 0   date         2818 non-null   datetime64[ns]\n",
      " 1   startup      2818 non-null   object        \n",
      " 2   vertical     2818 non-null   object        \n",
      " 3   subvertical  2077 non-null   object        \n",
      " 4   city         2818 non-null   object        \n",
      " 5   investors    2818 non-null   object        \n",
      " 6   round        2818 non-null   object        \n",
      " 7   amount       2818 non-null   float64       \n",
      "dtypes: datetime64[ns](1), float64(1), object(6)\n",
      "memory usage: 198.1+ KB\n"
     ]
    }
   ],
   "source": [
    "df.info()"
   ]
  },
  {
   "cell_type": "raw",
   "id": "b651ccc4-2edd-48ad-90a5-d8cd6264f585",
   "metadata": {},
   "source": [
    "Now store the clean data into a file name called startup_cleaned.csv"
   ]
  },
  {
   "cell_type": "code",
   "execution_count": 39,
   "id": "215254ea-1253-488c-87ab-629ff676785f",
   "metadata": {},
   "outputs": [],
   "source": [
    "df.to_csv('startup_cleaned.csv',index=False)"
   ]
  },
  {
   "cell_type": "code",
   "execution_count": null,
   "id": "ae34a576-bf16-401f-b933-cdb3ad8f600d",
   "metadata": {},
   "outputs": [],
   "source": []
  }
 ],
 "metadata": {
  "kernelspec": {
   "display_name": "Python 3 (ipykernel)",
   "language": "python",
   "name": "python3"
  },
  "language_info": {
   "codemirror_mode": {
    "name": "ipython",
    "version": 3
   },
   "file_extension": ".py",
   "mimetype": "text/x-python",
   "name": "python",
   "nbconvert_exporter": "python",
   "pygments_lexer": "ipython3",
   "version": "3.13.0"
  }
 },
 "nbformat": 4,
 "nbformat_minor": 5
}
